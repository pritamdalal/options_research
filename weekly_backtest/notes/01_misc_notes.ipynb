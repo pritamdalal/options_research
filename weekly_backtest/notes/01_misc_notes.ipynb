{
 "cells": [
  {
   "cell_type": "markdown",
   "id": "76337e66-bad5-4ca0-9a12-a337c9d6617e",
   "metadata": {},
   "source": [
    "1. Add volume and open interest to `otm_history`.\n",
    "2. There is day in December 2015 that has the wrong expiration data for basically all underlyings except SPY.\n",
    "    - Note that for `execution_date=2015-12-11` and `expiration=2015-12-2019` there is only one eligible underlying. I did some investigation of the raw option_price table and I found that all underlyings except SPY have a expiration date of 2015-12-18.\n",
    "4. There were two market holidays that I have to deal with (bizdays changed it's behavior) - I am going to skip this for now:\n",
    "    - Hurricane Sandy around 2012-10-26\n",
    "    - Ford's funeral around 2006-12-29\n",
    "5. There is a weird rounding issue that seems to creep up in QQQ (or there are just some weird strikes that I should get rid of).  It seems to be that QQQ has strike at an 1/8 of a dollar, or 0.125.  However, some of these seem to round to e.g. 93.63 (instead of 93.625).  I'm not sure if this is an issue with the source files, or an issue with the ingestion process (maybe using `real` as the data type).  It definitely doesn't happen when creating the entries`otm_history` because these strikes appear in `option_price`, the raw table.  In doing some investigating it seem like `real` is only accurate up to 6 decimals (it's 4 bytes) which might be a real problem.  Definitley want to look into this more when creating my next research database.\n",
    "    - I decided to take care of these via a script, located in a Jupyter notebook entitled `cleaning_qqq_strikes.ipynb`.  More details can be found there.\n",
    "    - There is a similar issue with XBI that I took care of the same way\n",
    "5. There are about 10K in rows the `chain_history` table that have null implied forwards, and swap rates.  This was causing some issues in my long-short backtest.  I'm going to try to filter for these another way and see if the backtest can run.  May want to check out why this was happening in the first place."
   ]
  }
 ],
 "metadata": {
  "kernelspec": {
   "display_name": "python3",
   "language": "python",
   "name": "python3"
  }
 },
 "nbformat": 4,
 "nbformat_minor": 5
}
