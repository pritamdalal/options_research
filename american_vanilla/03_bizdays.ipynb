{
 "cells": [
  {
   "cell_type": "code",
   "execution_count": null,
   "id": "0605f1d7-d875-48d8-8ee5-122664d89178",
   "metadata": {},
   "outputs": [],
   "source": [
    "from bizdays import Calendar"
   ]
  },
  {
   "cell_type": "code",
   "execution_count": null,
   "id": "4ceeb9e1-566d-47ed-85e4-c7e1c3450416",
   "metadata": {},
   "outputs": [
    {
     "data": {
      "text/plain": [
       "Calendar: PMC/NYSE\n",
       "Start: 1885-01-01\n",
       "End: 2200-12-25\n",
       "Weekdays: Saturday, Sunday\n",
       "Holidays: 3552\n",
       "Financial: True"
      ]
     },
     "execution_count": null,
     "metadata": {},
     "output_type": "execute_result"
    }
   ],
   "source": [
    "Calendar.load(\"PMC/NYSE\")"
   ]
  },
  {
   "cell_type": "code",
   "execution_count": null,
   "id": "c766a799-5fe5-4462-ad83-073f0f177518",
   "metadata": {},
   "outputs": [
    {
     "data": {
      "text/plain": [
       "0"
      ]
     },
     "execution_count": null,
     "metadata": {},
     "output_type": "execute_result"
    }
   ],
   "source": [
    "cal = Calendar.load(\"PMC/NYSE\")\n",
    "cal.bizdays('2021-01-01', '2021-01-02')"
   ]
  },
  {
   "cell_type": "code",
   "execution_count": null,
   "id": "42503e6e-2b6b-4383-9a15-34defa85c82c",
   "metadata": {},
   "outputs": [
    {
     "data": {
      "text/plain": [
       "False"
      ]
     },
     "execution_count": null,
     "metadata": {},
     "output_type": "execute_result"
    }
   ],
   "source": [
    "cal.isbizday('2014-01-12')"
   ]
  },
  {
   "cell_type": "code",
   "execution_count": null,
   "id": "3bb81916-369e-4cbb-8fa8-06425e68a219",
   "metadata": {},
   "outputs": [
    {
     "data": {
      "text/plain": [
       "True"
      ]
     },
     "execution_count": null,
     "metadata": {},
     "output_type": "execute_result"
    }
   ],
   "source": [
    "cal.isbizday('2014-01-13')"
   ]
  },
  {
   "cell_type": "code",
   "execution_count": null,
   "id": "e631b36b-3d02-49c6-b279-13c01209b4d1",
   "metadata": {},
   "outputs": [
    {
     "data": {
      "text/plain": [
       "252"
      ]
     },
     "execution_count": null,
     "metadata": {},
     "output_type": "execute_result"
    }
   ],
   "source": [
    "cal.bizdays('2014-01-13', '2015-01-13')"
   ]
  },
  {
   "cell_type": "code",
   "execution_count": null,
   "id": "17d0fcbc-f1c7-486a-ab1a-2e5a82c1b9d5",
   "metadata": {},
   "outputs": [
    {
     "data": {
      "text/plain": [
       "datetime.date(2015, 12, 28)"
      ]
     },
     "execution_count": null,
     "metadata": {},
     "output_type": "execute_result"
    }
   ],
   "source": [
    "cal.following('2015-12-25')"
   ]
  },
  {
   "cell_type": "code",
   "execution_count": null,
   "id": "129f5ae2-146d-4729-aa92-bec4cfe88ee9",
   "metadata": {},
   "outputs": [
    {
     "data": {
      "text/plain": [
       "datetime.date(2015, 12, 28)"
      ]
     },
     "execution_count": null,
     "metadata": {},
     "output_type": "execute_result"
    }
   ],
   "source": [
    "cal.following('2015-12-28')"
   ]
  },
  {
   "cell_type": "code",
   "execution_count": null,
   "id": "08277be0-614c-41a0-9564-f424157f35d4",
   "metadata": {},
   "outputs": [
    {
     "data": {
      "text/plain": [
       "datetime.date(2013, 12, 31)"
      ]
     },
     "execution_count": null,
     "metadata": {},
     "output_type": "execute_result"
    }
   ],
   "source": [
    "cal.preceding('2014-01-01')"
   ]
  },
  {
   "cell_type": "code",
   "execution_count": null,
   "id": "05c9388b-3854-48c7-b41f-bab53f992b48",
   "metadata": {},
   "outputs": [
    {
     "data": {
      "text/plain": [
       "datetime.date(2014, 1, 2)"
      ]
     },
     "execution_count": null,
     "metadata": {},
     "output_type": "execute_result"
    }
   ],
   "source": [
    "cal.preceding('2014-01-02')"
   ]
  },
  {
   "cell_type": "code",
   "execution_count": null,
   "id": "ac1b6d90-1ba2-4672-a315-c78ab0f2d6de",
   "metadata": {},
   "outputs": [
    {
     "data": {
      "text/plain": [
       "[datetime.date(2014, 1, 2),\n",
       " datetime.date(2014, 1, 3),\n",
       " datetime.date(2014, 1, 6),\n",
       " datetime.date(2014, 1, 7)]"
      ]
     },
     "execution_count": null,
     "metadata": {},
     "output_type": "execute_result"
    }
   ],
   "source": [
    "cal.seq('2014-01-02', '2014-01-07')"
   ]
  },
  {
   "cell_type": "code",
   "execution_count": null,
   "id": "5f9f449f-423d-4389-ba3c-5888d063feda",
   "metadata": {},
   "outputs": [
    {
     "data": {
      "text/plain": [
       "23"
      ]
     },
     "execution_count": null,
     "metadata": {},
     "output_type": "execute_result"
    }
   ],
   "source": [
    "current_date = '2018-11-16'\n",
    "expiration = '2018-12-21'\n",
    "cal.bizdays(current_date, expiration)"
   ]
  },
  {
   "cell_type": "code",
   "execution_count": null,
   "id": "e03fb2cd-7fe7-4aeb-afc2-1d5055ffd5df",
   "metadata": {},
   "outputs": [
    {
     "data": {
      "text/plain": [
       "4"
      ]
     },
     "execution_count": null,
     "metadata": {},
     "output_type": "execute_result"
    }
   ],
   "source": [
    "current_date = '2018-11-16'\n",
    "expiration = '2018-11-23'\n",
    "cal.bizdays(current_date, expiration)"
   ]
  },
  {
   "cell_type": "code",
   "execution_count": null,
   "id": "15492159-7f4b-4f90-98a5-2441e761d597",
   "metadata": {},
   "outputs": [
    {
     "data": {
      "text/plain": [
       "[datetime.date(2018, 11, 16),\n",
       " datetime.date(2018, 11, 19),\n",
       " datetime.date(2018, 11, 20),\n",
       " datetime.date(2018, 11, 21),\n",
       " datetime.date(2018, 11, 23),\n",
       " datetime.date(2018, 11, 26),\n",
       " datetime.date(2018, 11, 27),\n",
       " datetime.date(2018, 11, 28),\n",
       " datetime.date(2018, 11, 29),\n",
       " datetime.date(2018, 11, 30),\n",
       " datetime.date(2018, 12, 3),\n",
       " datetime.date(2018, 12, 4),\n",
       " datetime.date(2018, 12, 6),\n",
       " datetime.date(2018, 12, 7),\n",
       " datetime.date(2018, 12, 10),\n",
       " datetime.date(2018, 12, 11),\n",
       " datetime.date(2018, 12, 12),\n",
       " datetime.date(2018, 12, 13),\n",
       " datetime.date(2018, 12, 14),\n",
       " datetime.date(2018, 12, 17),\n",
       " datetime.date(2018, 12, 18),\n",
       " datetime.date(2018, 12, 19),\n",
       " datetime.date(2018, 12, 20),\n",
       " datetime.date(2018, 12, 21)]"
      ]
     },
     "execution_count": null,
     "metadata": {},
     "output_type": "execute_result"
    }
   ],
   "source": [
    "cal.seq('2018-11-16', '2018-12-21')"
   ]
  },
  {
   "cell_type": "code",
   "execution_count": null,
   "id": "9b8b961b-1a39-41d0-822e-1ae611efab63",
   "metadata": {},
   "outputs": [
    {
     "data": {
      "text/plain": [
       "5"
      ]
     },
     "execution_count": null,
     "metadata": {},
     "output_type": "execute_result"
    }
   ],
   "source": [
    "current_date = '2018-11-23'\n",
    "expiration = '2018-11-30'\n",
    "cal.bizdays(current_date, expiration)"
   ]
  },
  {
   "cell_type": "code",
   "execution_count": null,
   "id": "30de67d1-d80a-4ed4-a470-8f21cef1e2e5",
   "metadata": {},
   "outputs": [],
   "source": []
  }
 ],
 "metadata": {
  "kernelspec": {
   "display_name": "python3",
   "language": "python",
   "name": "python3"
  }
 },
 "nbformat": 4,
 "nbformat_minor": 5
}
