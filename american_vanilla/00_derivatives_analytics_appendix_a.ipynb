{
 "cells": [
  {
   "cell_type": "markdown",
   "id": "3fafc404-3c13-42ef-888a-5e3c1677096f",
   "metadata": {},
   "source": [
    "## Basic Tutorials"
   ]
  },
  {
   "cell_type": "code",
   "execution_count": null,
   "id": "ddfad939-f26e-417d-b5b2-f8ad7fdadeea",
   "metadata": {},
   "outputs": [],
   "source": [
    "import numpy as np"
   ]
  },
  {
   "cell_type": "code",
   "execution_count": null,
   "id": "fbea2604-543f-4bd2-a432-f89e2d1fa6b7",
   "metadata": {},
   "outputs": [
    {
     "data": {
      "text/plain": [
       "array([ 0.,  1.,  2.,  3.,  4.,  5.,  6.,  7.,  8.,  9., 10., 11., 12.,\n",
       "       13., 14., 15., 16., 17., 18., 19.])"
      ]
     },
     "execution_count": null,
     "metadata": {},
     "output_type": "execute_result"
    }
   ],
   "source": [
    "a = np.arange(0.0, 20.0, 1.0)\n",
    "a"
   ]
  },
  {
   "cell_type": "code",
   "execution_count": null,
   "id": "73ba3acb-823b-4437-a19d-0685274604fc",
   "metadata": {},
   "outputs": [
    {
     "data": {
      "text/plain": [
       "array([ 0.,  1.,  2.,  3.,  4.,  5.,  6.,  7.,  8.,  9., 10., 11., 12.,\n",
       "       13., 14., 15., 16., 17., 18., 19.])"
      ]
     },
     "execution_count": null,
     "metadata": {},
     "output_type": "execute_result"
    }
   ],
   "source": [
    "b = np.linspace(0.0, 19.0, 20)\n",
    "b"
   ]
  },
  {
   "cell_type": "code",
   "execution_count": null,
   "id": "90179c2c-c062-44f9-a03b-cc00a07aedd7",
   "metadata": {},
   "outputs": [
    {
     "data": {
      "text/plain": [
       "array([[ 0.,  1.,  2.,  3.,  4.],\n",
       "       [ 5.,  6.,  7.,  8.,  9.],\n",
       "       [10., 11., 12., 13., 14.],\n",
       "       [15., 16., 17., 18., 19.]])"
      ]
     },
     "execution_count": null,
     "metadata": {},
     "output_type": "execute_result"
    }
   ],
   "source": [
    "a.resize(4, 5)\n",
    "a"
   ]
  },
  {
   "cell_type": "code",
   "execution_count": null,
   "id": "2b423911-838f-4d01-b5a2-b3e9ad28390d",
   "metadata": {},
   "outputs": [
    {
     "data": {
      "text/plain": [
       "array([0., 1., 2., 3., 4.])"
      ]
     },
     "execution_count": null,
     "metadata": {},
     "output_type": "execute_result"
    }
   ],
   "source": [
    "a[0]"
   ]
  },
  {
   "cell_type": "code",
   "execution_count": null,
   "id": "23c55acb-ec34-4e0e-a51c-0a29f9f75774",
   "metadata": {},
   "outputs": [
    {
     "data": {
      "text/plain": [
       "array([15., 16., 17., 18., 19.])"
      ]
     },
     "execution_count": null,
     "metadata": {},
     "output_type": "execute_result"
    }
   ],
   "source": [
    "a[3]"
   ]
  },
  {
   "cell_type": "code",
   "execution_count": null,
   "id": "8e5a2894-1bc7-41f5-8c78-ab3a0a2c377f",
   "metadata": {},
   "outputs": [
    {
     "data": {
      "text/plain": [
       "9.0"
      ]
     },
     "execution_count": null,
     "metadata": {},
     "output_type": "execute_result"
    }
   ],
   "source": [
    "a[1, 4]"
   ]
  },
  {
   "cell_type": "code",
   "execution_count": null,
   "id": "47cc270a-d679-4aa7-97aa-51099d286b4d",
   "metadata": {},
   "outputs": [
    {
     "data": {
      "text/plain": [
       "array([7., 8.])"
      ]
     },
     "execution_count": null,
     "metadata": {},
     "output_type": "execute_result"
    }
   ],
   "source": [
    "a[1, 2:4]"
   ]
  },
  {
   "cell_type": "code",
   "execution_count": null,
   "id": "bf4f53d4-b348-4985-8a05-42123d70388f",
   "metadata": {},
   "outputs": [
    {
     "data": {
      "text/plain": [
       "array([[0. , 0.5, 1. , 1.5, 2. ],\n",
       "       [2.5, 3. , 3.5, 4. , 4.5],\n",
       "       [5. , 5.5, 6. , 6.5, 7. ],\n",
       "       [7.5, 8. , 8.5, 9. , 9.5]])"
      ]
     },
     "execution_count": null,
     "metadata": {},
     "output_type": "execute_result"
    }
   ],
   "source": [
    "a * 0.5"
   ]
  },
  {
   "cell_type": "code",
   "execution_count": null,
   "id": "02bdfb2b-b7b0-4ae2-8bde-c4f539e10dfb",
   "metadata": {},
   "outputs": [
    {
     "data": {
      "text/plain": [
       "array([[  0.,   1.,   4.,   9.,  16.],\n",
       "       [ 25.,  36.,  49.,  64.,  81.],\n",
       "       [100., 121., 144., 169., 196.],\n",
       "       [225., 256., 289., 324., 361.]])"
      ]
     },
     "execution_count": null,
     "metadata": {},
     "output_type": "execute_result"
    }
   ],
   "source": [
    "a ** 2"
   ]
  },
  {
   "cell_type": "code",
   "execution_count": null,
   "id": "8f4dff3a-4194-43b9-8905-6ded73c2dbfb",
   "metadata": {},
   "outputs": [
    {
     "data": {
      "text/plain": [
       "array([[ 0.,  2.,  4.,  6.,  8.],\n",
       "       [10., 12., 14., 16., 18.],\n",
       "       [20., 22., 24., 26., 28.],\n",
       "       [30., 32., 34., 36., 38.]])"
      ]
     },
     "execution_count": null,
     "metadata": {},
     "output_type": "execute_result"
    }
   ],
   "source": [
    "a + a"
   ]
  },
  {
   "cell_type": "code",
   "execution_count": null,
   "id": "8d9ddb1c-1a83-4d9a-9a05-1425ea26d873",
   "metadata": {},
   "outputs": [
    {
     "name": "stdout",
     "output_type": "stream",
     "text": [
      "0\n",
      "1\n",
      "2\n",
      "3\n",
      "4\n"
     ]
    }
   ],
   "source": [
    "for i in range(5):\n",
    "    print(i)"
   ]
  },
  {
   "cell_type": "code",
   "execution_count": null,
   "id": "db06cbd6-1e71-4ce6-92c1-6ed9b208aeeb",
   "metadata": {},
   "outputs": [
    {
     "data": {
      "text/plain": [
       "array([ 0.,  1.,  2.,  3.,  4.,  5.,  6.,  7.,  8.,  9., 10., 11., 12.,\n",
       "       13., 14., 15., 16., 17., 18., 19., 20., 21., 22., 23., 24., 25.,\n",
       "       26., 27., 28., 29., 30., 31., 32., 33., 34., 35., 36., 37., 38.,\n",
       "       39., 40., 41., 42., 43., 44., 45., 46., 47., 48., 49., 50., 51.,\n",
       "       52., 53., 54., 55., 56., 57., 58., 59., 60., 61., 62., 63., 64.,\n",
       "       65., 66., 67., 68., 69., 70., 71., 72., 73., 74., 75., 76., 77.,\n",
       "       78., 79., 80., 81., 82., 83., 84., 85., 86., 87., 88., 89., 90.,\n",
       "       91., 92., 93., 94., 95., 96., 97., 98., 99.])"
      ]
     },
     "execution_count": null,
     "metadata": {},
     "output_type": "execute_result"
    }
   ],
   "source": [
    "b = np.arange(0, 100.0, 1)\n",
    "b"
   ]
  },
  {
   "cell_type": "code",
   "execution_count": null,
   "id": "b27cb885-84ff-4b6a-98d8-255edc66a8e8",
   "metadata": {},
   "outputs": [
    {
     "name": "stdout",
     "output_type": "stream",
     "text": [
      "50.0 at index no. 50\n"
     ]
    }
   ],
   "source": [
    "for i in range(100):\n",
    "    if b[i] == 50:\n",
    "        print(f\"50.0 at index no. {i}\")"
   ]
  },
  {
   "cell_type": "code",
   "execution_count": null,
   "id": "ba03a7aa-2afd-4016-81c5-26efbd9bba8b",
   "metadata": {},
   "outputs": [
    {
     "data": {
      "text/plain": [
       "array([[ 1.04661947, -2.74580268, -0.23831576,  1.46726018, -0.07000494],\n",
       "       [-2.26411511, -0.27535097, -1.7358735 , -1.05681725,  0.69702617],\n",
       "       [ 0.29719479,  0.83260564,  0.37660107,  1.22506173, -1.24452666],\n",
       "       [-1.78818604,  0.24477713,  0.19981654,  0.06206548,  1.16206055]])"
      ]
     },
     "execution_count": null,
     "metadata": {},
     "output_type": "execute_result"
    }
   ],
   "source": [
    "b = np.random.standard_normal((4, 5))\n",
    "b"
   ]
  },
  {
   "cell_type": "markdown",
   "id": "fe5c7c96-c174-4325-8152-60db3e238631",
   "metadata": {},
   "source": [
    "## CRR Model: Nested `for`-loops"
   ]
  },
  {
   "cell_type": "code",
   "execution_count": null,
   "id": "f424ac49-eef1-4941-a12b-5fa92d8ad6a9",
   "metadata": {},
   "outputs": [],
   "source": [
    "import math\n",
    "\n",
    "# Option Parameters\n",
    "S0 = 105.0 # initial index level\n",
    "K = 100.0# strike price\n",
    "T = 1. # call option maturity\n",
    "r = 0.05 # constant short rate\n",
    "vola = 0.25 # constant volatility factor of diffusion\n",
    "\n",
    "# Time Parameters\n",
    "M = 3 # time steps\n",
    "dt = T / M # length of time interval\n",
    "df = math.exp(-r * dt) # discount factor per time interval\n",
    "\n",
    "# Binomial Parameters\n",
    "u = math.exp(vola * math.sqrt(dt)) # up-movement\n",
    "d = 1 / u # down-movement\n",
    "q = (math.exp(r * dt) - d) / (u - d) # martingale (risk-neutral) probability"
   ]
  },
  {
   "cell_type": "code",
   "execution_count": null,
   "id": "343b0983-e9c5-42bf-8d50-ec5190ba3934",
   "metadata": {},
   "outputs": [
    {
     "data": {
      "text/plain": [
       "array([[105.,   0.,   0.,   0.],\n",
       "       [  0.,   0.,   0.,   0.],\n",
       "       [  0.,   0.,   0.,   0.],\n",
       "       [  0.,   0.,   0.,   0.]])"
      ]
     },
     "execution_count": null,
     "metadata": {},
     "output_type": "execute_result"
    }
   ],
   "source": [
    "import numpy as np\n",
    "S = np.zeros((M + 1, M + 1), dtype=\"float\") # index level array\n",
    "S[0, 0] = S0\n",
    "S"
   ]
  },
  {
   "cell_type": "code",
   "execution_count": null,
   "id": "d398b6ae-c962-4669-84c5-b1e95a249cd6",
   "metadata": {},
   "outputs": [],
   "source": [
    "# Hilpsch's versions\n",
    "# z = 0\n",
    "# for j in range(1, M + 1, 1):\n",
    "#     z += 1\n",
    "#     for i in range(z + 1):\n",
    "#         S[i, j] = S[0, 0] * (u ** j) * (d ** (i * 2))\n",
    "#         #print(i, j)\n",
    "# S"
   ]
  },
  {
   "cell_type": "code",
   "execution_count": null,
   "id": "8bf12440-e103-44f4-aa62-52500968e887",
   "metadata": {},
   "outputs": [],
   "source": [
    "# Pritam's version\n",
    "# z = 0\n",
    "# for j in range(1, M + 1, 1):\n",
    "#     z += 1\n",
    "#     for i in range(z + 1):\n",
    "#         S[i, j] = S[0, 0] * (u ** (j - i)) * (d ** i)\n",
    "#         #print(i, j)\n",
    "# S"
   ]
  },
  {
   "cell_type": "code",
   "execution_count": null,
   "id": "8222995e-d32a-4518-99f9-a16a42e6b199",
   "metadata": {},
   "outputs": [
    {
     "data": {
      "text/plain": [
       "array([[105.        , 121.30377267, 140.13909775, 161.89905958],\n",
       "       [  0.        ,  90.88752771, 105.        , 121.30377267],\n",
       "       [  0.        ,   0.        ,  78.67183517,  90.88752771],\n",
       "       [  0.        ,   0.        ,   0.        ,  68.09798666]])"
      ]
     },
     "execution_count": null,
     "metadata": {},
     "output_type": "execute_result"
    }
   ],
   "source": [
    "# Pritam's version -- Removing z\n",
    "#z = 0\n",
    "for j in range(1, M + 1, 1):\n",
    "    #z += 1\n",
    "    for i in range(j + 1):\n",
    "        S[i, j] = S[0, 0] * (u ** (j - i)) * (d ** i)\n",
    "        #print(i, j)\n",
    "S"
   ]
  },
  {
   "cell_type": "code",
   "execution_count": null,
   "id": "17f472c1-3e19-4b2e-bc6c-b93a90502081",
   "metadata": {},
   "outputs": [],
   "source": [
    "# Array Initialization for Inner Values - Hilpsch's versions\n",
    "# iv = np.zeros((M + 1, M + 1), dtype='float') # inner value array\n",
    "# z = 0\n",
    "# for j in range(0, M + 1, 1):\n",
    "#     for i in range(z + 1):\n",
    "#         iv[i, j] = round(max(S[i, j] - K, 0), 8)\n",
    "#     z += 1\n",
    "# iv"
   ]
  },
  {
   "cell_type": "code",
   "execution_count": null,
   "id": "419327f3-6502-4490-b1a0-84e216cb0e40",
   "metadata": {},
   "outputs": [
    {
     "data": {
      "text/plain": [
       "array([[ 5.        , 21.30377267, 40.13909775, 61.89905958],\n",
       "       [ 0.        ,  0.        ,  5.        , 21.30377267],\n",
       "       [ 0.        ,  0.        ,  0.        ,  0.        ],\n",
       "       [ 0.        ,  0.        ,  0.        ,  0.        ]])"
      ]
     },
     "execution_count": null,
     "metadata": {},
     "output_type": "execute_result"
    }
   ],
   "source": [
    "# Array Initialization for Inner Values - Pritam's Version (removing z)\n",
    "iv = np.zeros((M + 1, M + 1), dtype='float') # inner value array\n",
    "#z = 0\n",
    "for j in range(0, M + 1, 1):\n",
    "    for i in range(j + 1):\n",
    "        iv[i, j] = round(max(S[i, j] - K, 0), 8)\n",
    "    #z += 1\n",
    "iv"
   ]
  },
  {
   "cell_type": "code",
   "execution_count": null,
   "id": "31d77e0b-5c4c-4c80-a6e5-68947eed4c45",
   "metadata": {},
   "outputs": [],
   "source": [
    "# Valuation by Risk-Neutral Discounting - Hilpsch versions\n",
    "# pv = np.zeros((M + 1, M + 1), dtype='float') # present value array\n",
    "# pv[:, M] = iv[:, M] # initialize last time step\n",
    "# z = M + 1\n",
    "# for j in range(M - 1, -1, -1):\n",
    "#     z -= 1\n",
    "#     for i in range(z):\n",
    "#         pv[i, j] = (q * pv[i, j + 1] + (1 - q) * pv[i + 1, j + 1]) * df\n",
    "# pv"
   ]
  },
  {
   "cell_type": "code",
   "execution_count": null,
   "id": "7770f2b4-ceb8-4555-bc5e-417c3e768f27",
   "metadata": {},
   "outputs": [
    {
     "data": {
      "text/plain": [
       "array([[16.29293245, 26.59599847, 41.79195237, 61.89905958],\n",
       "       [ 0.        ,  5.61452766, 10.93666406, 21.30377267],\n",
       "       [ 0.        ,  0.        ,  0.        ,  0.        ],\n",
       "       [ 0.        ,  0.        ,  0.        ,  0.        ]])"
      ]
     },
     "execution_count": null,
     "metadata": {},
     "output_type": "execute_result"
    }
   ],
   "source": [
    "# Valuation by Risk-Neutral Discounting - Pritam's version (don't need the inner-values array, getting rid of z)\n",
    "pv = np.zeros((M + 1, M + 1), dtype='float') # present value array\n",
    "#pv[:, M] = iv[:, M] # initialize last time step\n",
    "pv[:, M] = np.maximum(S[:, M] - K, 0)\n",
    "#z = M + 1\n",
    "for j in range(M - 1, -1, -1):\n",
    "    #z -= 1\n",
    "    for i in range(j + 1):\n",
    "        pv[i, j] = (q * pv[i, j + 1] + (1 - q) * pv[i + 1, j + 1]) * df\n",
    "pv"
   ]
  },
  {
   "cell_type": "code",
   "execution_count": null,
   "id": "e8bb474d-d7ea-4ac8-936a-996e48433496",
   "metadata": {},
   "outputs": [],
   "source": [
    "# for j in range(M - 1, -1, -1):\n",
    "#     print(j)"
   ]
  },
  {
   "cell_type": "code",
   "execution_count": null,
   "id": "fb6b05d2-4d96-4c6f-bc92-f56520ac71a2",
   "metadata": {},
   "outputs": [],
   "source": [
    "# for j in range(M - 1, -1, -1):\n",
    "#     print(j)"
   ]
  },
  {
   "cell_type": "code",
   "execution_count": null,
   "id": "daeb6826-dcce-4faa-9ce1-4b98f55f89ad",
   "metadata": {},
   "outputs": [
    {
     "name": "stdout",
     "output_type": "stream",
     "text": [
      "16.29293244989886\n"
     ]
    }
   ],
   "source": [
    "print(pv[0,0])"
   ]
  },
  {
   "cell_type": "markdown",
   "id": "0ba173e0-6dd7-422d-8364-17493d7fe6c8",
   "metadata": {},
   "source": [
    "## CRR Model: Vectorized Code"
   ]
  },
  {
   "cell_type": "code",
   "execution_count": null,
   "id": "310633b8-676b-495c-9ee4-77de8bbf4a20",
   "metadata": {},
   "outputs": [
    {
     "data": {
      "text/plain": [
       "array([0, 1, 2, 3])"
      ]
     },
     "execution_count": null,
     "metadata": {},
     "output_type": "execute_result"
    }
   ],
   "source": [
    "mu = np.arange(M + 1)\n",
    "mu"
   ]
  },
  {
   "cell_type": "code",
   "execution_count": null,
   "id": "a893261b-3f3f-43fc-bb0f-ab0540f94a9d",
   "metadata": {},
   "outputs": [
    {
     "data": {
      "text/plain": [
       "array([[0, 1, 2, 3],\n",
       "       [0, 1, 2, 3],\n",
       "       [0, 1, 2, 3],\n",
       "       [0, 1, 2, 3]])"
      ]
     },
     "execution_count": null,
     "metadata": {},
     "output_type": "execute_result"
    }
   ],
   "source": [
    "mu = np.resize(mu, (M + 1, M + 1))\n",
    "mu"
   ]
  },
  {
   "cell_type": "code",
   "execution_count": null,
   "id": "be4a2a32-bce1-44ec-ad1b-7b5ee551d0f3",
   "metadata": {},
   "outputs": [
    {
     "data": {
      "text/plain": [
       "array([[0, 0, 0, 0],\n",
       "       [1, 1, 1, 1],\n",
       "       [2, 2, 2, 2],\n",
       "       [3, 3, 3, 3]])"
      ]
     },
     "execution_count": null,
     "metadata": {},
     "output_type": "execute_result"
    }
   ],
   "source": [
    "md = mu.T\n",
    "md"
   ]
  },
  {
   "cell_type": "code",
   "execution_count": null,
   "id": "da458018-829b-44a8-bed8-259f9f3ade40",
   "metadata": {},
   "outputs": [
    {
     "data": {
      "text/plain": [
       "array([[1.        , 1.15527403, 1.33465807, 1.54189581],\n",
       "       [0.8655955 , 1.        , 1.15527403, 1.33465807],\n",
       "       [0.74925557, 0.8655955 , 1.        , 1.15527403],\n",
       "       [0.64855225, 0.74925557, 0.8655955 , 1.        ]])"
      ]
     },
     "execution_count": null,
     "metadata": {},
     "output_type": "execute_result"
    }
   ],
   "source": [
    "mu = u ** (mu - md)\n",
    "mu"
   ]
  },
  {
   "cell_type": "code",
   "execution_count": null,
   "id": "f134ad45-d1c4-42ea-a74f-05ca88c1b598",
   "metadata": {},
   "outputs": [
    {
     "data": {
      "text/plain": [
       "array([[1.        , 1.        , 1.        , 1.        ],\n",
       "       [0.8655955 , 0.8655955 , 0.8655955 , 0.8655955 ],\n",
       "       [0.74925557, 0.74925557, 0.74925557, 0.74925557],\n",
       "       [0.64855225, 0.64855225, 0.64855225, 0.64855225]])"
      ]
     },
     "execution_count": null,
     "metadata": {},
     "output_type": "execute_result"
    }
   ],
   "source": [
    "md = d ** md\n",
    "md"
   ]
  },
  {
   "cell_type": "code",
   "execution_count": null,
   "id": "935450e4-bc93-4e38-948f-212b471e3bf4",
   "metadata": {},
   "outputs": [
    {
     "data": {
      "text/plain": [
       "array([[105.        , 121.30377267, 140.13909775, 161.89905958],\n",
       "       [ 78.67183517,  90.88752771, 105.        , 121.30377267],\n",
       "       [ 58.94531095,  68.09798666,  78.67183517,  90.88752771],\n",
       "       [ 44.16510274,  51.02279602,  58.94531095,  68.09798666]])"
      ]
     },
     "execution_count": null,
     "metadata": {},
     "output_type": "execute_result"
    }
   ],
   "source": [
    "S = S0 * mu * md\n",
    "S"
   ]
  },
  {
   "cell_type": "code",
   "execution_count": null,
   "id": "d80185e6-7fac-43f8-a835-16864f40316b",
   "metadata": {},
   "outputs": [
    {
     "data": {
      "text/plain": [
       "array([[105.        , 121.30377267, 140.13909775, 161.89905958],\n",
       "       [  0.        ,  90.88752771, 105.        , 121.30377267],\n",
       "       [  0.        ,   0.        ,  78.67183517,  90.88752771],\n",
       "       [  0.        ,   0.        ,   0.        ,  68.09798666]])"
      ]
     },
     "execution_count": null,
     "metadata": {},
     "output_type": "execute_result"
    }
   ],
   "source": [
    "S = np.triu(S) # set the entries below the diagonal equal to zero\n",
    "S"
   ]
  },
  {
   "cell_type": "code",
   "execution_count": null,
   "id": "aaa78a8a-ebee-4e2d-8cb2-86f6158afcb9",
   "metadata": {},
   "outputs": [
    {
     "name": "stdout",
     "output_type": "stream",
     "text": [
      "16.29293244989886\n"
     ]
    }
   ],
   "source": [
    "# Valuation by Risk-Neutral Discounting\n",
    "pv = np.maximum(S - K, 0) # present value array initialized with inner values\n",
    "z = 0\n",
    "for i in range(M - 1, -1, -1): # backwards induction\n",
    "    pv[0:M - z, i] = (q * pv[0:M - z, i + 1]\n",
    "                    + (1 - q) * pv[1:M - z + 1, i + 1]) * df\n",
    "    z += 1\n",
    "\n",
    "# Result Output\n",
    "print(pv[0, 0])"
   ]
  },
  {
   "cell_type": "markdown",
   "id": "9a247c49-4d4b-4889-901d-6ef6f25c7917",
   "metadata": {},
   "source": [
    "## cantaro86"
   ]
  },
  {
   "cell_type": "code",
   "execution_count": null,
   "id": "3aba8693-c1ad-47f2-b4d6-e91274fd22ef",
   "metadata": {},
   "outputs": [],
   "source": [
    "S0 = 105.0  # spot stock price\n",
    "K = 100.0  # strike\n",
    "T = 1.0  # maturity\n",
    "r = 0.05  # risk free rate\n",
    "sig = 0.25  # diffusion coefficient or volatility\n",
    "\n",
    "N = 3  # number of periods or number of time steps\n",
    "payoff = \"call\"  # payoff"
   ]
  },
  {
   "cell_type": "code",
   "execution_count": null,
   "id": "fef7474b-9522-47cd-ac0f-b8b4cb201d8a",
   "metadata": {},
   "outputs": [],
   "source": [
    "dT = float(T) / N  # Delta t\n",
    "u = np.exp(sig * np.sqrt(dT))  # up factor\n",
    "d = 1.0 / u  # down factor"
   ]
  },
  {
   "cell_type": "code",
   "execution_count": null,
   "id": "2401308d-6660-41f4-82de-75db1cf72830",
   "metadata": {},
   "outputs": [
    {
     "data": {
      "text/plain": [
       "array([0., 0., 0., 0.])"
      ]
     },
     "execution_count": null,
     "metadata": {},
     "output_type": "execute_result"
    }
   ],
   "source": [
    "V = np.zeros(N + 1)  # initialize the price vector\n",
    "V"
   ]
  },
  {
   "cell_type": "code",
   "execution_count": null,
   "id": "de334f6a-41f9-43f3-9bad-8e7f511d054b",
   "metadata": {},
   "outputs": [
    {
     "data": {
      "text/plain": [
       "array([ 68.09798666,  90.88752771, 121.30377267, 161.89905958])"
      ]
     },
     "execution_count": null,
     "metadata": {},
     "output_type": "execute_result"
    }
   ],
   "source": [
    "S_T = np.array([(S0 * u**j * d ** (N - j)) for j in range(N + 1)])  # price S_T at time T\n",
    "S_T"
   ]
  },
  {
   "cell_type": "code",
   "execution_count": null,
   "id": "27aab880-51db-43b8-857a-5a0dff91c3d8",
   "metadata": {},
   "outputs": [],
   "source": [
    "a = np.exp(r * dT)  # risk free compound return\n",
    "p = (a - d) / (u - d)  # risk neutral up probability\n",
    "q = 1.0 - p  # risk neutral down probability"
   ]
  },
  {
   "cell_type": "code",
   "execution_count": null,
   "id": "8a4c3217-3a58-4903-b7a3-652c3d3af8ae",
   "metadata": {},
   "outputs": [
    {
     "data": {
      "text/plain": [
       "array([ 0.        ,  0.        , 21.30377267, 61.89905958])"
      ]
     },
     "execution_count": null,
     "metadata": {},
     "output_type": "execute_result"
    }
   ],
   "source": [
    "if payoff == \"call\":\n",
    "    V[:] = np.maximum(S_T - K, 0.0)\n",
    "elif payoff == \"put\":\n",
    "    V[:] = np.maximum(K - S_T, 0.0)\n",
    "V"
   ]
  },
  {
   "cell_type": "code",
   "execution_count": null,
   "id": "30e6d93f-2cc7-4975-91e5-abb44b188d70",
   "metadata": {},
   "outputs": [
    {
     "data": {
      "text/plain": [
       "array([ 16.29293245,  45.52726404,  89.83292357, 149.6314809 ])"
      ]
     },
     "execution_count": null,
     "metadata": {},
     "output_type": "execute_result"
    }
   ],
   "source": [
    "for i in range(N - 1, -1, -1):\n",
    "    V[:-1] = np.exp(-r * dT) * (p * V[1:] + q * V[:-1])  # the price vector is overwritten at each step\n",
    "    S_T = S_T * u  # it is a tricky way to obtain the price at the previous time step\n",
    "    if payoff == \"call\":\n",
    "        V = np.maximum(V, S_T - K)\n",
    "    elif payoff == \"put\":\n",
    "        V = np.maximum(V, K - S_T)\n",
    "V"
   ]
  },
  {
   "cell_type": "code",
   "execution_count": null,
   "id": "9e572722-cfd9-4803-a22f-3cffb9493c57",
   "metadata": {},
   "outputs": [
    {
     "name": "stdout",
     "output_type": "stream",
     "text": [
      "American BS Tree Price:  16.29293244989886\n"
     ]
    }
   ],
   "source": [
    "print(\"American BS Tree Price: \", V[0])"
   ]
  },
  {
   "cell_type": "markdown",
   "id": "2feb5a4c-1761-402c-b4b2-bd9942f2ca0f",
   "metadata": {},
   "source": [
    "## quantpy"
   ]
  },
  {
   "cell_type": "code",
   "execution_count": null,
   "id": "d994552b-17ab-4173-ba96-e82938b90bc8",
   "metadata": {},
   "outputs": [],
   "source": [
    "# Initialise parameters\n",
    "S0 = 105      # initial stock price\n",
    "K = 100       # strike price\n",
    "T = 1         # time to maturity in years\n",
    "r = 0.05      # annual risk-free rate\n",
    "N = 3        # number of time steps\n",
    "sig = 0.25\n",
    "dt = T / N\n",
    "u = np.exp(sig * np.sqrt(dt))  # up factor\n",
    "d = 1.0 / u  # down factor\n",
    "# u = 1.1       # up-factor in binomial models\n",
    "# d = 1/u       # ensure recombining tree\n",
    "opttype = 'C' # Option Type 'C' or 'P'"
   ]
  },
  {
   "cell_type": "code",
   "execution_count": null,
   "id": "baaade9a-8250-416e-b340-9729ad787b14",
   "metadata": {},
   "outputs": [
    {
     "data": {
      "text/plain": [
       "16.292932449898853"
      ]
     },
     "execution_count": null,
     "metadata": {},
     "output_type": "execute_result"
    }
   ],
   "source": [
    "def american_fast_tree(K,T,S0,r,N,u,d,opttype='P'):\n",
    "    #precompute values\n",
    "    dt = T/N\n",
    "    q = (np.exp(r*dt) - d)/(u-d)\n",
    "    disc = np.exp(-r*dt)\n",
    "    \n",
    "    # initialize stock prices at maturity\n",
    "    S = S0 * d**(np.arange(N,-1,-1)) * u**(np.arange(0,N+1,1))\n",
    "        \n",
    "    # option payoff \n",
    "    if opttype == 'P':\n",
    "        C = np.maximum(0, K - S)\n",
    "    else:\n",
    "        C = np.maximum(0, S - K)\n",
    "    \n",
    "    # backward recursion through the tree\n",
    "    for i in np.arange(N-1,-1,-1):\n",
    "        #S = S0 * d**(np.arange(i,-1,-1)) * u**(np.arange(0,i+1,1))\n",
    "        S = (S * u)[0:-1]\n",
    "        #C[:i+1] = disc * ( q*C[1:i+2] + (1-q)*C[0:i+1] )\n",
    "        #C = C[:-1]\n",
    "        C =  disc * ( q*C[1:i+2] + (1-q)*C[0:i+1] )\n",
    "        if opttype == 'P':\n",
    "            C = np.maximum(C, K - S)\n",
    "        else:\n",
    "            C = np.maximum(C, S - K)\n",
    "                \n",
    "    return C[0]\n",
    "american_fast_tree(K,T,S0,r,N,u,d,opttype)"
   ]
  },
  {
   "cell_type": "markdown",
   "id": "dc7ea7c8-94a0-402e-abd5-c3eb9dedd0ac",
   "metadata": {},
   "source": [
    "## quantpy - step by step"
   ]
  },
  {
   "cell_type": "code",
   "execution_count": null,
   "id": "23d35493-8402-43f6-af04-611b25198ce5",
   "metadata": {},
   "outputs": [],
   "source": [
    "# Initialize parameters\n",
    "S0 = 105      # initial stock price\n",
    "K = 100       # strike price\n",
    "T = 1         # time to maturity in years\n",
    "r = 0.05      # annual risk-free rate\n",
    "N = 3         # number of time steps\n",
    "sig = 0.25\n",
    "dt = T / N\n",
    "u = np.exp(sig * np.sqrt(dt))  # up factor\n",
    "d = 1.0 / u  # down factor\n",
    "opttype = 'C' # Option Type 'C' or 'P'"
   ]
  },
  {
   "cell_type": "code",
   "execution_count": null,
   "id": "6e9a8bc4-78b1-49f9-bc05-e3cf0b9a345b",
   "metadata": {},
   "outputs": [],
   "source": [
    "q = (np.exp(r*dt) - d)/(u-d)\n",
    "disc = np.exp(-r*dt)"
   ]
  },
  {
   "cell_type": "code",
   "execution_count": null,
   "id": "c891e8cb-f1c6-49b8-be38-b8c848230599",
   "metadata": {},
   "outputs": [],
   "source": [
    "# terminal underlying values\n",
    "S = S0 * (d**np.arange(N, -1, -1)) * (u**np.arange(0, N+1, 1))"
   ]
  },
  {
   "cell_type": "code",
   "execution_count": null,
   "id": "182d5005-b69a-471a-b4af-d538023fbbc5",
   "metadata": {},
   "outputs": [],
   "source": [
    "# option payoff at expiration\n",
    "if opttype == 'P':\n",
    "    C = np.maximum(0, K - S)\n",
    "else:\n",
    "    C = np.maximum(0, S - K)"
   ]
  },
  {
   "cell_type": "code",
   "execution_count": null,
   "id": "ced341ee-ef5a-442a-ab3c-5c2cbb6118cf",
   "metadata": {},
   "outputs": [],
   "source": [
    "# for i in np.arange(N-1,-1,-1):\n",
    "#     S = (S * u)[:-1]\n",
    "#     print(S)"
   ]
  },
  {
   "cell_type": "code",
   "execution_count": null,
   "id": "b8f88f19-87a4-4028-b6fd-a8af13af1247",
   "metadata": {},
   "outputs": [
    {
     "name": "stdout",
     "output_type": "stream",
     "text": [
      "[ 0.         10.93666406 41.79195237]\n",
      "[ 5.61452766 26.59599847]\n",
      "[16.29293245]\n"
     ]
    }
   ],
   "source": [
    "# backward recursion through the tree\n",
    "for i in np.arange(N-1,-1,-1):\n",
    "    #S = S0 * d**(np.arange(i,-1,-1)) * u**(np.arange(0,i+1,1))\n",
    "    S = (S * u)[0:-1]\n",
    "    #C[:i+1] = disc * ( q*C[1:i+2] + (1-q)*C[0:i+1] )\n",
    "    #C = C[:-1]\n",
    "    C =  disc * (q*C[1:i+2] + (1-q)*C[0:i+1])\n",
    "    print(C)\n",
    "    if opttype == 'P':\n",
    "        C = np.maximum(C, K - S)\n",
    "    else:\n",
    "        C = np.maximum(C, S - K)"
   ]
  },
  {
   "cell_type": "code",
   "execution_count": null,
   "id": "26de2b5d-10e3-40f1-931e-2a641e5029ea",
   "metadata": {},
   "outputs": [],
   "source": []
  },
  {
   "cell_type": "code",
   "execution_count": null,
   "id": "cb7c9816-deb1-4b82-b134-142e29b0a2ad",
   "metadata": {},
   "outputs": [],
   "source": []
  },
  {
   "cell_type": "code",
   "execution_count": null,
   "id": "cb45af29-b22f-491d-8e23-2125a3bb2246",
   "metadata": {},
   "outputs": [],
   "source": []
  }
 ],
 "metadata": {
  "kernelspec": {
   "display_name": "python3",
   "language": "python",
   "name": "python3"
  }
 },
 "nbformat": 4,
 "nbformat_minor": 5
}
