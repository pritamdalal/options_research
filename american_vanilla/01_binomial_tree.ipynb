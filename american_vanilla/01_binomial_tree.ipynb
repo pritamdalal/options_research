{
 "cells": [
  {
   "cell_type": "code",
   "execution_count": null,
   "id": "d4e2949a-217c-49b9-9bea-ae3a40671cc6",
   "metadata": {},
   "outputs": [],
   "source": [
    "import numpy as np"
   ]
  },
  {
   "cell_type": "code",
   "execution_count": null,
   "id": "5e184148-0d86-4359-a061-83b9b96c47a2",
   "metadata": {},
   "outputs": [],
   "source": [
    "# Initialize parameters\n",
    "S0 = 105      # initial stock price\n",
    "K = 100       # strike price\n",
    "T = 1         # time to maturity in years\n",
    "r = 0.05      # annual risk-free rate\n",
    "q = 0         # dividend yield\n",
    "vol = 0.25    # volatility\n",
    "steps = 10     # number of time steps\n",
    "cp = \"call\"   # type of option"
   ]
  },
  {
   "cell_type": "code",
   "execution_count": null,
   "id": "3c8d6220-345a-4a44-a5e7-89e7760ad69f",
   "metadata": {},
   "outputs": [],
   "source": [
    "dt = T / steps                 # length of time-step\n",
    "u = np.exp(vol * np.sqrt(dt))  # up factor\n",
    "d = 1.0 / u                    # down factor\n",
    "a = np.exp((r-q)*dt)           # growth factor\n",
    "p = (a - d) / (u - d)          # risk-neutral up probability\n",
    "disc = np.exp(-r*dt)           # discount factor"
   ]
  },
  {
   "cell_type": "code",
   "execution_count": null,
   "id": "5558d8ba-d4bc-494b-adbd-6a58764ff169",
   "metadata": {},
   "outputs": [
    {
     "data": {
      "text/plain": [
       "array([ 47.62657649,  55.78498896,  65.34093404,  76.53380848,\n",
       "        89.64401759, 105.        , 122.98645571, 144.05398371,\n",
       "       168.73037036, 197.63381164, 231.48840021])"
      ]
     },
     "execution_count": null,
     "metadata": {},
     "output_type": "execute_result"
    }
   ],
   "source": [
    "S = S0 * (d**np.arange(steps, -1, -1)) * (u**np.arange(0, steps+1, 1))\n",
    "S"
   ]
  },
  {
   "cell_type": "code",
   "execution_count": null,
   "id": "cca4f09a-65ff-4cc8-be1c-67627dd2d7eb",
   "metadata": {},
   "outputs": [
    {
     "data": {
      "text/plain": [
       "array([  0.        ,   0.        ,   0.        ,   0.        ,\n",
       "         0.        ,   5.        ,  22.98645571,  44.05398371,\n",
       "        68.73037036,  97.63381164, 131.48840021])"
      ]
     },
     "execution_count": null,
     "metadata": {},
     "output_type": "execute_result"
    }
   ],
   "source": [
    "# option payoff at expiration\n",
    "if cp == 'put':\n",
    "    V = np.maximum(0, K - S)\n",
    "else:\n",
    "    V = np.maximum(0, S - K)\n",
    "V"
   ]
  },
  {
   "cell_type": "code",
   "execution_count": null,
   "id": "ef2259a0-8358-477a-855a-4ec6d4999ac8",
   "metadata": {},
   "outputs": [
    {
     "data": {
      "text/plain": [
       "array([15.7978638])"
      ]
     },
     "execution_count": null,
     "metadata": {},
     "output_type": "execute_result"
    }
   ],
   "source": [
    "# backward recursion through the tree\n",
    "for i in np.arange(steps-1,-1,-1):\n",
    "    S = (S * u)[0:-1]\n",
    "    V =  disc * (p*V[1:i+2] + (1-p)*V[0:i+1])\n",
    "    #print(V)\n",
    "    if cp == 'put':\n",
    "        V = np.maximum(V, K - S)\n",
    "    else:\n",
    "        V = np.maximum(V, S - K)\n",
    "V"
   ]
  },
  {
   "cell_type": "markdown",
   "id": "0c8f8fdf-2d95-4150-ae17-0754872475a8",
   "metadata": {},
   "source": [
    "## As Function"
   ]
  },
  {
   "cell_type": "code",
   "execution_count": null,
   "id": "bb278202-fecc-4a1d-9efa-ec99d0fe1784",
   "metadata": {},
   "outputs": [],
   "source": [
    "def crr_vanilla(cp, K, T, S0, vol, r, q, steps=1000, american=False):\n",
    "    dt = T / steps                 # length of time-step\n",
    "    u = np.exp(vol * np.sqrt(dt))  # up factor\n",
    "    d = 1.0 / u                    # down factor\n",
    "    a = np.exp((r-q)*dt)           # growth factor\n",
    "    p = (a - d) / (u - d)          # risk-neutral up probability\n",
    "    disc = np.exp(-r*dt)           # discount factor\n",
    "\n",
    "    # initializing terminal stock values\n",
    "    S = S0 * (d**np.arange(steps, -1, -1)) * (u**np.arange(0, steps+1, 1))\n",
    "\n",
    "    # value of option at final time step\n",
    "    if cp == 'put':\n",
    "        V = np.maximum(0, K - S)\n",
    "    else:\n",
    "        V = np.maximum(0, S - K)\n",
    "\n",
    "\n",
    "    # backward recursion through the tree\n",
    "    for i in np.arange(steps-1,-1,-1): \n",
    "        S = (S * u)[0:-1] # a tricky way of calculating the previous underlying prices\n",
    "        V =  disc * (p*V[1:i+2] + (1-p)*V[0:i+1])\n",
    "        # check for early exercise\n",
    "        if american:\n",
    "            if cp == 'put':\n",
    "                V = np.maximum(V, K - S)\n",
    "            else:\n",
    "                V = np.maximum(V, S - K)\n",
    "\n",
    "    \n",
    "    return V[0]"
   ]
  },
  {
   "cell_type": "code",
   "execution_count": null,
   "id": "ea47d1c6-b4cf-4864-98cb-56337f14df7a",
   "metadata": {},
   "outputs": [
    {
     "data": {
      "text/plain": [
       "3.7513304406239656"
      ]
     },
     "execution_count": null,
     "metadata": {},
     "output_type": "execute_result"
    }
   ],
   "source": [
    "# Initialize parameters\n",
    "S0 = 100      # initial stock price\n",
    "K = 100       # strike price\n",
    "T = 1         # time to maturity in years\n",
    "r = 0.1      # annual risk-free rate\n",
    "q = 0        # dividend yield\n",
    "vol = 0.2    # volatility\n",
    "steps = 1000     # number of time steps\n",
    "cp = \"put\"   # type of option\n",
    "american=False\n",
    "crr_vanilla(cp, K, T, S0, vol, r, q, steps, american)"
   ]
  },
  {
   "cell_type": "code",
   "execution_count": null,
   "id": "c6b949d1-5101-44f1-933e-a6155cfdbd19",
   "metadata": {},
   "outputs": [],
   "source": [
    "from py_vollib.black_scholes_merton import black_scholes_merton\n",
    "from py_vollib.black_scholes_merton.greeks.analytical import delta"
   ]
  },
  {
   "cell_type": "code",
   "execution_count": null,
   "id": "442bf526-be79-4b8e-af46-e7bb34958b6b",
   "metadata": {},
   "outputs": [
    {
     "data": {
      "text/plain": [
       "3.753418388256841"
      ]
     },
     "execution_count": null,
     "metadata": {},
     "output_type": "execute_result"
    }
   ],
   "source": [
    "black_scholes_merton('p', S0, K, T, r, vol, q)"
   ]
  },
  {
   "cell_type": "code",
   "execution_count": null,
   "id": "891f8b32-d704-4aba-978f-53f673c99fc4",
   "metadata": {},
   "outputs": [
    {
     "data": {
      "text/plain": [
       "-0.2742531177500736"
      ]
     },
     "execution_count": null,
     "metadata": {},
     "output_type": "execute_result"
    }
   ],
   "source": [
    "delta('p', S0, K, T, r, vol, q)"
   ]
  },
  {
   "cell_type": "markdown",
   "id": "debe8d84-9761-4c68-85ff-986a967c27f3",
   "metadata": {},
   "source": [
    "## Adding Delta"
   ]
  },
  {
   "cell_type": "code",
   "execution_count": null,
   "id": "17f91b99-6a20-44dc-8ef1-6b1c2e5a750e",
   "metadata": {},
   "outputs": [],
   "source": [
    "def crr_vanilla(cp, K, T, S0, vol, r, q, american=False, steps=1000):\n",
    "    dt = T / steps                 # length of time-step\n",
    "    u = np.exp(vol * np.sqrt(dt))  # up factor\n",
    "    d = 1.0 / u                    # down factor\n",
    "    a = np.exp((r-q)*dt)           # growth factor\n",
    "    p = (a - d) / (u - d)          # risk-neutral up probability\n",
    "    disc = np.exp(-r*dt)           # discount factor\n",
    "\n",
    "    # initializing terminal underlying values\n",
    "    S = S0 * (d**np.arange(steps, -1, -1)) * (u**np.arange(0, steps+1, 1))\n",
    "\n",
    "    # value of option at final time step\n",
    "    if cp == 'put':\n",
    "        V = np.maximum(0, K - S)\n",
    "    else:\n",
    "        V = np.maximum(0, S - K)\n",
    "\n",
    "\n",
    "    # backward recursion through the tree (only to the penultimate step so we can calculate delta)\n",
    "    for i in np.arange(steps-1,0,-1): \n",
    "        S = (S * u)[0:-1] # a tricky way of calculating the previous underlying prices\n",
    "        V =  disc * (p*V[1:i+2] + (1-p)*V[0:i+1])\n",
    "        # check for early exercise\n",
    "        if american:\n",
    "            if cp == 'put':\n",
    "                V = np.maximum(V, K - S)\n",
    "            else:\n",
    "                V = np.maximum(V, S - K)\n",
    "\n",
    "    delta = (V[1] - V[0]) / (S[1] - S[0])\n",
    "    price = disc * (p*V[1] + (1-p)*V[0])\n",
    "    \n",
    "    return price, delta"
   ]
  },
  {
   "cell_type": "code",
   "execution_count": null,
   "id": "a80ac15f-8b6b-40b6-a27f-54bdfaba20d1",
   "metadata": {},
   "outputs": [
    {
     "data": {
      "text/plain": [
       "(3.753209570128056, -0.274257271897797)"
      ]
     },
     "execution_count": null,
     "metadata": {},
     "output_type": "execute_result"
    }
   ],
   "source": [
    "# Initialize parameters\n",
    "S0 = 100      # initial stock price\n",
    "K = 100       # strike price\n",
    "T = 1         # time to maturity in years\n",
    "r = 0.1      # annual risk-free rate\n",
    "q = 0        # dividend yield\n",
    "vol = 0.2    # volatility\n",
    "steps = 10000     # number of time steps\n",
    "cp = \"put\"   # type of option\n",
    "american=False\n",
    "crr_vanilla(cp, K, T, S0, vol, r, q, american, steps)"
   ]
  },
  {
   "cell_type": "markdown",
   "id": "ed9da582-696b-4749-967e-184dc2f854c0",
   "metadata": {},
   "source": [
    "## Implied Volatility"
   ]
  },
  {
   "cell_type": "code",
   "execution_count": null,
   "id": "7a90b829-9b0e-4624-91e4-61cdb85ff90d",
   "metadata": {},
   "outputs": [],
   "source": [
    "# Initialize parameters\n",
    "px = 11.10   # option price\n",
    "S0 = 100      # initial stock price\n",
    "K = 100       # strike price\n",
    "T = 0.5         # time to maturity in years\n",
    "r = 0.03     # annual risk-free rate\n",
    "q = 0.01        # dividend yield\n",
    "#vol = 0.2    # volatility\n",
    "steps = 1000     # number of time steps\n",
    "cp = \"call\"   # type of option\n",
    "american=True"
   ]
  },
  {
   "cell_type": "code",
   "execution_count": null,
   "id": "5032152e-1010-4c4b-9d8f-60c15f02386c",
   "metadata": {},
   "outputs": [],
   "source": [
    "from scipy.optimize import fsolve"
   ]
  },
  {
   "cell_type": "code",
   "execution_count": null,
   "id": "9fd0a648-7029-4813-8546-d832586af1d7",
   "metadata": {},
   "outputs": [],
   "source": [
    "def difference(vol):\n",
    "    opt_px = crr_vanilla(cp, K, T, S0, vol, r, q, american, steps)[0]\n",
    "    return opt_px - px"
   ]
  },
  {
   "cell_type": "code",
   "execution_count": null,
   "id": "6d264782-10db-4568-a839-216324764372",
   "metadata": {},
   "outputs": [
    {
     "data": {
      "text/plain": [
       "-5.289094414747562"
      ]
     },
     "execution_count": null,
     "metadata": {},
     "output_type": "execute_result"
    }
   ],
   "source": [
    "difference(0.19)"
   ]
  },
  {
   "cell_type": "code",
   "execution_count": null,
   "id": "3f90f289-9f1a-49b9-a332-c75e0512de90",
   "metadata": {},
   "outputs": [
    {
     "data": {
      "text/plain": [
       "0.38069093405733784"
      ]
     },
     "execution_count": null,
     "metadata": {},
     "output_type": "execute_result"
    }
   ],
   "source": [
    "fsolve(difference, 0.1)[0]"
   ]
  },
  {
   "cell_type": "code",
   "execution_count": null,
   "id": "b586237a-183c-4152-a8a9-af2da7d2dd51",
   "metadata": {},
   "outputs": [],
   "source": [
    "def implied_vol(cp, K, T, S0, px, r, q, american, steps):\n",
    "    def difference(vol):\n",
    "        opt_px = crr_vanilla(cp, K, T, S0, vol, r, q, american, steps)[0]\n",
    "        return opt_px - px\n",
    "    iv = fsolve(difference, 0.1)[0]\n",
    "    return iv"
   ]
  },
  {
   "cell_type": "code",
   "execution_count": null,
   "id": "d57aba44-4051-4b7f-a358-02fae64fab44",
   "metadata": {},
   "outputs": [
    {
     "name": "stdout",
     "output_type": "stream",
     "text": [
      "73.6 ms ± 221 µs per loop (mean ± std. dev. of 7 runs, 10 loops each)\n"
     ]
    }
   ],
   "source": [
    "%%timeit\n",
    "implied_vol(cp, K, T, S0, px, r, q, american, steps)"
   ]
  },
  {
   "cell_type": "markdown",
   "id": "7cd09442-93d2-4aed-ab07-a3e18a9abc01",
   "metadata": {},
   "source": [
    "## Testing a Real Life Option"
   ]
  },
  {
   "cell_type": "code",
   "execution_count": null,
   "id": "772cb40a-750d-4576-a1e4-8f58e629a7a6",
   "metadata": {},
   "outputs": [],
   "source": [
    "underlying = 'QQQ'\n",
    "current_date = '11/16/2018'\n",
    "expiration = '12/21/2018'\n",
    "cp = 'put'\n",
    "K = 160\n",
    "S0 = 168\n",
    "d2x = 24\n",
    "px = 2.25\n",
    "T = 24/252\n",
    "r = 0\n",
    "q = 0\n",
    "american = False\n",
    "steps = 10000"
   ]
  },
  {
   "cell_type": "code",
   "execution_count": null,
   "id": "621ca7a3-58c0-4744-b501-2b73a233493c",
   "metadata": {},
   "outputs": [
    {
     "data": {
      "text/plain": [
       "0.2636373413579189"
      ]
     },
     "execution_count": null,
     "metadata": {},
     "output_type": "execute_result"
    }
   ],
   "source": [
    "implied_vol(cp, K, T, S0, px, r, q, american, steps)"
   ]
  },
  {
   "cell_type": "code",
   "execution_count": null,
   "id": "60d05993-f95c-4f5c-80d9-1f4b5c231a73",
   "metadata": {},
   "outputs": [],
   "source": []
  }
 ],
 "metadata": {
  "kernelspec": {
   "display_name": "python3",
   "language": "python",
   "name": "python3"
  }
 },
 "nbformat": 4,
 "nbformat_minor": 5
}
